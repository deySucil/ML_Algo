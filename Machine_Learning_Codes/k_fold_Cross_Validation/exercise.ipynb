{
 "cells": [
  {
   "cell_type": "code",
   "execution_count": 10,
   "metadata": {},
   "outputs": [],
   "source": [
    "import pandas as pd\n",
    "import numpy as np\n",
    "from sklearn.linear_model import LogisticRegression\n",
    "from sklearn.svm import SVC\n",
    "from sklearn.tree import DecisionTreeClassifier\n",
    "from sklearn.ensemble import RandomForestClassifier\n",
    "from sklearn.datasets import load_iris"
   ]
  },
  {
   "cell_type": "code",
   "execution_count": 11,
   "metadata": {},
   "outputs": [
    {
     "data": {
      "text/plain": [
       "(150, 4)"
      ]
     },
     "execution_count": 11,
     "metadata": {},
     "output_type": "execute_result"
    }
   ],
   "source": [
    "iris = load_iris()\n",
    "iris.data.shape\n"
   ]
  },
  {
   "cell_type": "code",
   "execution_count": 12,
   "metadata": {},
   "outputs": [
    {
     "name": "stdout",
     "output_type": "stream",
     "text": [
      "(150, 4) (150,)\n"
     ]
    }
   ],
   "source": [
    "x = iris.data\n",
    "y = iris.target\n",
    "\n",
    "# print(x[[3]])\n",
    "# print(x)\n",
    "print(x.shape,y.shape)"
   ]
  },
  {
   "cell_type": "code",
   "execution_count": 13,
   "metadata": {},
   "outputs": [],
   "source": [
    "def model_score(model,x_train,x_test,y_train,y_test):\n",
    "    model.fit(x_train,y_train)\n",
    "    return model.score(x_test,y_test)"
   ]
  },
  {
   "cell_type": "code",
   "execution_count": 14,
   "metadata": {},
   "outputs": [],
   "source": [
    "from sklearn.model_selection import KFold\n",
    "\n",
    "kf = KFold(n_splits=5)\n",
    "\n",
    "score_logRe = []\n",
    "score_svm = []\n",
    "score_DT = []\n",
    "score_rf = []"
   ]
  },
  {
   "cell_type": "code",
   "execution_count": 15,
   "metadata": {},
   "outputs": [],
   "source": [
    "for train_index,test_index in kf.split(x,y):\n",
    "    x_train,x_test,y_train,y_test = x[train_index],x[test_index],y[train_index],y[test_index]\n",
    "    \n",
    "    score_logRe.append(model_score(LogisticRegression(),x_train,x_test,y_train,y_test))\n",
    "    score_svm.append(model_score(SVC(),x_train,x_test,y_train,y_test))\n",
    "    score_DT.append(model_score(DecisionTreeClassifier(),x_train,x_test,y_train,y_test))\n",
    "    score_rf.append(model_score(RandomForestClassifier(),x_train,x_test,y_train,y_test))"
   ]
  },
  {
   "cell_type": "code",
   "execution_count": 16,
   "metadata": {},
   "outputs": [
    {
     "name": "stdout",
     "output_type": "stream",
     "text": [
      "[1.0, 1.0, 0.8666666666666667, 0.9333333333333333, 0.8333333333333334]\n",
      "[1.0, 1.0, 0.8333333333333334, 0.9333333333333333, 0.7]\n",
      "[1.0, 0.9666666666666667, 0.9, 0.9333333333333333, 0.7666666666666667]\n",
      "[1.0, 1.0, 0.8666666666666667, 0.9333333333333333, 0.7333333333333333]\n"
     ]
    }
   ],
   "source": [
    "print(score_logRe)\n",
    "print(score_svm)\n",
    "print(score_DT)\n",
    "print(score_rf)\n"
   ]
  },
  {
   "cell_type": "code",
   "execution_count": 17,
   "metadata": {},
   "outputs": [
    {
     "name": "stdout",
     "output_type": "stream",
     "text": [
      "0.9266666666666667 0.8933333333333333 0.9133333333333333 0.9066666666666666\n"
     ]
    }
   ],
   "source": [
    "mean_1 = sum(score_logRe)/5\n",
    "mean_2 = sum(score_svm)/5\n",
    "mean_3 = sum(score_DT)/5\n",
    "mean_4 = sum(score_rf)/5\n",
    "print(mean_1,mean_2,mean_3,mean_4)"
   ]
  },
  {
   "cell_type": "code",
   "execution_count": 18,
   "metadata": {},
   "outputs": [
    {
     "name": "stderr",
     "output_type": "stream",
     "text": [
      "c:\\Users\\user\\Desktop\\Machine_Learning_Codes\\.venv\\Lib\\site-packages\\sklearn\\linear_model\\_logistic.py:465: ConvergenceWarning: lbfgs failed to converge (status=1):\n",
      "STOP: TOTAL NO. OF ITERATIONS REACHED LIMIT.\n",
      "\n",
      "Increase the number of iterations (max_iter) or scale the data as shown in:\n",
      "    https://scikit-learn.org/stable/modules/preprocessing.html\n",
      "Please also refer to the documentation for alternative solver options:\n",
      "    https://scikit-learn.org/stable/modules/linear_model.html#logistic-regression\n",
      "  n_iter_i = _check_optimize_result(\n"
     ]
    },
    {
     "name": "stdout",
     "output_type": "stream",
     "text": [
      "0.9733333333333334 0.9666666666666666 0.9666666666666668 0.96\n"
     ]
    }
   ],
   "source": [
    "from sklearn.model_selection import cross_val_score\n",
    "\n",
    "mean_logRe = cross_val_score(LogisticRegression(),x,y,cv=5).mean()\n",
    "mean_svm = cross_val_score(SVC(),x,y,cv=5).mean()\n",
    "mean_DT = cross_val_score(DecisionTreeClassifier(),x,y,cv=5).mean()\n",
    "mean_rf = cross_val_score(RandomForestClassifier(),x,y,cv=5).mean()\n",
    "\n",
    "print(mean_logRe,mean_svm,mean_DT,mean_rf)"
   ]
  }
 ],
 "metadata": {
  "kernelspec": {
   "display_name": ".venv",
   "language": "python",
   "name": "python3"
  },
  "language_info": {
   "codemirror_mode": {
    "name": "ipython",
    "version": 3
   },
   "file_extension": ".py",
   "mimetype": "text/x-python",
   "name": "python",
   "nbconvert_exporter": "python",
   "pygments_lexer": "ipython3",
   "version": "3.13.2"
  }
 },
 "nbformat": 4,
 "nbformat_minor": 2
}
